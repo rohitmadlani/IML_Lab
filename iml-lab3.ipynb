{
 "cells": [
  {
   "cell_type": "markdown",
   "id": "1fb2db4b",
   "metadata": {
    "papermill": {
     "duration": 0.005461,
     "end_time": "2023-09-04T18:08:55.014976",
     "exception": false,
     "start_time": "2023-09-04T18:08:55.009515",
     "status": "completed"
    },
    "tags": []
   },
   "source": []
  },
  {
   "cell_type": "markdown",
   "id": "9bf69118",
   "metadata": {
    "papermill": {
     "duration": 0.004519,
     "end_time": "2023-09-04T18:08:55.026129",
     "exception": false,
     "start_time": "2023-09-04T18:08:55.021610",
     "status": "completed"
    },
    "tags": []
   },
   "source": [
    "# 1\n",
    "Code to split an array of 14 elements into 3 arrays, each with 2, 4, and 8 elements in the original order"
   ]
  },
  {
   "cell_type": "code",
   "execution_count": 1,
   "id": "7a1b3c2a",
   "metadata": {
    "execution": {
     "iopub.execute_input": "2023-09-04T18:08:55.036358Z",
     "iopub.status.busy": "2023-09-04T18:08:55.035913Z",
     "iopub.status.idle": "2023-09-04T18:08:55.052205Z",
     "shell.execute_reply": "2023-09-04T18:08:55.050922Z"
    },
    "papermill": {
     "duration": 0.024487,
     "end_time": "2023-09-04T18:08:55.054652",
     "exception": false,
     "start_time": "2023-09-04T18:08:55.030165",
     "status": "completed"
    },
    "tags": []
   },
   "outputs": [
    {
     "name": "stdout",
     "output_type": "stream",
     "text": [
      "Original array: [ 1  2  3  4  5  6  7  8  9 10 11 12 13 14]\n",
      "After splitting:\n",
      "[array([1, 2]), array([3, 4, 5, 6]), array([ 7,  8,  9, 10, 11, 12, 13, 14])]\n"
     ]
    }
   ],
   "source": [
    "import numpy as np\n",
    "x = np.arange(1, 15)\n",
    "print(\"Original array:\",x)\n",
    "print(\"After splitting:\")\n",
    "print(np.split(x, [2, 6]))"
   ]
  },
  {
   "cell_type": "markdown",
   "id": "30993e73",
   "metadata": {
    "papermill": {
     "duration": 0.004035,
     "end_time": "2023-09-04T18:08:55.063041",
     "exception": false,
     "start_time": "2023-09-04T18:08:55.059006",
     "status": "completed"
    },
    "tags": []
   },
   "source": [
    "# 2\n",
    "Code to stack arrays horizontally (column wise)"
   ]
  },
  {
   "cell_type": "code",
   "execution_count": 2,
   "id": "dafca65b",
   "metadata": {
    "execution": {
     "iopub.execute_input": "2023-09-04T18:08:55.073555Z",
     "iopub.status.busy": "2023-09-04T18:08:55.072706Z",
     "iopub.status.idle": "2023-09-04T18:08:55.080527Z",
     "shell.execute_reply": "2023-09-04T18:08:55.079394Z"
    },
    "papermill": {
     "duration": 0.015829,
     "end_time": "2023-09-04T18:08:55.083011",
     "exception": false,
     "start_time": "2023-09-04T18:08:55.067182",
     "status": "completed"
    },
    "tags": []
   },
   "outputs": [
    {
     "name": "stdout",
     "output_type": "stream",
     "text": [
      "[ 1  2  3  4  5  6  7  8  9 10]\n"
     ]
    }
   ],
   "source": [
    "arr1 = np.array([1,2,3,4,5])\n",
    "arr2 = np.array([6,7,8,9,10])\n",
    "\n",
    "list = [arr1,arr2]\n",
    "\n",
    "h_arr = np.hstack(list)\n",
    "\n",
    "print(h_arr)"
   ]
  }
 ],
 "kernelspec": {
  "display_name": "Python 3",
  "language": "python",
  "name": "python3"
 },
 "language_info": {
  "codemirror_mode": {
   "name": "ipython",
   "version": 3
  },
  "file_extension": ".py",
  "mimetype": "text/x-python",
  "name": "python",
  "nbconvert_exporter": "python",
  "pygments_lexer": "ipython3",
  "version": "3.6.4"
 },
 "metadata": {
  "kernelspec": {
   "display_name": "Python 3",
   "language": "python",
   "name": "python3"
  },
  "language_info": {
   "codemirror_mode": {
    "name": "ipython",
    "version": 3
   },
   "file_extension": ".py",
   "mimetype": "text/x-python",
   "name": "python",
   "nbconvert_exporter": "python",
   "pygments_lexer": "ipython3",
   "version": "3.10.12"
  },
  "papermill": {
   "default_parameters": {},
   "duration": 4.269129,
   "end_time": "2023-09-04T18:08:55.508027",
   "environment_variables": {},
   "exception": null,
   "input_path": "__notebook__.ipynb",
   "output_path": "__notebook__.ipynb",
   "parameters": {},
   "start_time": "2023-09-04T18:08:51.238898",
   "version": "2.4.0"
  }
 },
 "nbformat": 4,
 "nbformat_minor": 5
}
