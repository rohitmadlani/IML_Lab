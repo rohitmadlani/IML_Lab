{
 "cells": [
  {
   "cell_type": "markdown",
   "id": "07565195",
   "metadata": {
    "papermill": {
     "duration": 0.003254,
     "end_time": "2023-10-22T17:11:08.055054",
     "exception": false,
     "start_time": "2023-10-22T17:11:08.051800",
     "status": "completed"
    },
    "tags": []
   },
   "source": [
    "# 1\n",
    "Code to find and drop the missing values from the given dataset"
   ]
  },
  {
   "cell_type": "code",
   "execution_count": 1,
   "id": "95b2ea94",
   "metadata": {
    "execution": {
     "iopub.execute_input": "2023-10-22T17:11:08.062608Z",
     "iopub.status.busy": "2023-10-22T17:11:08.061600Z",
     "iopub.status.idle": "2023-10-22T17:11:08.501219Z",
     "shell.execute_reply": "2023-10-22T17:11:08.499900Z"
    },
    "papermill": {
     "duration": 0.447546,
     "end_time": "2023-10-22T17:11:08.505020",
     "exception": false,
     "start_time": "2023-10-22T17:11:08.057474",
     "status": "completed"
    },
    "tags": []
   },
   "outputs": [
    {
     "name": "stdout",
     "output_type": "stream",
     "text": [
      "Dataframe with missing values\n",
      "  Name   ID\n",
      "0    A  1.0\n",
      "1    A  1.0\n",
      "2  NaN  3.0\n",
      "3    D  4.0\n",
      "4    E  NaN\n",
      "Dataframe with removed missing values\n",
      "  Name   ID\n",
      "0    A  1.0\n",
      "1    A  1.0\n",
      "3    D  4.0\n"
     ]
    }
   ],
   "source": [
    "import numpy as np\n",
    "import pandas as pd\n",
    "\n",
    "data = {\n",
    "    'Name' : ['A','A',np.nan,'D','E'],\n",
    "    'ID' : [1,1,3,4,np.nan]\n",
    "}\n",
    "\n",
    "df = pd.DataFrame(data)\n",
    "\n",
    "print(\"Dataframe with missing values\")\n",
    "print(df)\n",
    "\n",
    "new_df = df.dropna()\n",
    "\n",
    "print(\"Dataframe with removed missing values\")\n",
    "print(new_df)"
   ]
  },
  {
   "cell_type": "markdown",
   "id": "216ff3a6",
   "metadata": {
    "papermill": {
     "duration": 0.001855,
     "end_time": "2023-10-22T17:11:08.509131",
     "exception": false,
     "start_time": "2023-10-22T17:11:08.507276",
     "status": "completed"
    },
    "tags": []
   },
   "source": [
    "# 2\n",
    "Code to remove the duplicates from the given dataset"
   ]
  },
  {
   "cell_type": "code",
   "execution_count": 2,
   "id": "68bbd002",
   "metadata": {
    "execution": {
     "iopub.execute_input": "2023-10-22T17:11:08.515626Z",
     "iopub.status.busy": "2023-10-22T17:11:08.514784Z",
     "iopub.status.idle": "2023-10-22T17:11:08.531343Z",
     "shell.execute_reply": "2023-10-22T17:11:08.530023Z"
    },
    "papermill": {
     "duration": 0.023233,
     "end_time": "2023-10-22T17:11:08.534418",
     "exception": false,
     "start_time": "2023-10-22T17:11:08.511185",
     "status": "completed"
    },
    "tags": []
   },
   "outputs": [
    {
     "name": "stdout",
     "output_type": "stream",
     "text": [
      "  Name   ID\n",
      "0    A  1.0\n",
      "3    D  4.0\n"
     ]
    }
   ],
   "source": [
    "print(new_df.drop_duplicates())"
   ]
  }
 ],
 "metadata": {
  "kernelspec": {
   "display_name": "Python 3",
   "language": "python",
   "name": "python3"
  },
  "language_info": {
   "codemirror_mode": {
    "name": "ipython",
    "version": 3
   },
   "file_extension": ".py",
   "mimetype": "text/x-python",
   "name": "python",
   "nbconvert_exporter": "python",
   "pygments_lexer": "ipython3",
   "version": "3.10.12"
  },
  "papermill": {
   "default_parameters": {},
   "duration": 4.515192,
   "end_time": "2023-10-22T17:11:09.158513",
   "environment_variables": {},
   "exception": null,
   "input_path": "__notebook__.ipynb",
   "output_path": "__notebook__.ipynb",
   "parameters": {},
   "start_time": "2023-10-22T17:11:04.643321",
   "version": "2.4.0"
  }
 },
 "nbformat": 4,
 "nbformat_minor": 5
}
