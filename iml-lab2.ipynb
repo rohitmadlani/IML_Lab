{
 "cells": [
  {
   "cell_type": "markdown",
   "id": "e063733d",
   "metadata": {
    "papermill": {
     "duration": 0.006234,
     "end_time": "2023-09-04T17:53:14.636698",
     "exception": false,
     "start_time": "2023-09-04T17:53:14.630464",
     "status": "completed"
    },
    "tags": []
   },
   "source": [
    "# 1\n",
    "Code to convert a list of numeric values into an one-dimensional NumPy array"
   ]
  },
  {
   "cell_type": "code",
   "execution_count": 1,
   "id": "7a239868",
   "metadata": {
    "execution": {
     "iopub.execute_input": "2023-09-04T17:53:14.650790Z",
     "iopub.status.busy": "2023-09-04T17:53:14.650032Z",
     "iopub.status.idle": "2023-09-04T17:53:14.667271Z",
     "shell.execute_reply": "2023-09-04T17:53:14.665488Z"
    },
    "papermill": {
     "duration": 0.027973,
     "end_time": "2023-09-04T17:53:14.670487",
     "exception": false,
     "start_time": "2023-09-04T17:53:14.642514",
     "status": "completed"
    },
    "tags": []
   },
   "outputs": [
    {
     "name": "stdout",
     "output_type": "stream",
     "text": [
      "[1, 2, 3, 4, 5]\n",
      "[1 2 3 4 5]\n",
      "<class 'list'>\n",
      "<class 'numpy.ndarray'>\n"
     ]
    }
   ],
   "source": [
    "import numpy as np\n",
    "\n",
    "num = [1,2,3,4,5]\n",
    "num_array = np.array(num)\n",
    "\n",
    "print(num)\n",
    "print(num_array)\n",
    "print(type(num))\n",
    "print(type(num_array))"
   ]
  },
  {
   "cell_type": "markdown",
   "id": "5555fa0c",
   "metadata": {
    "papermill": {
     "duration": 0.005377,
     "end_time": "2023-09-04T17:53:14.681632",
     "exception": false,
     "start_time": "2023-09-04T17:53:14.676255",
     "status": "completed"
    },
    "tags": []
   },
   "source": []
  },
  {
   "cell_type": "markdown",
   "id": "4ba33df1",
   "metadata": {
    "papermill": {
     "duration": 0.005247,
     "end_time": "2023-09-04T17:53:14.692572",
     "exception": false,
     "start_time": "2023-09-04T17:53:14.687325",
     "status": "completed"
    },
    "tags": []
   },
   "source": [
    "# 2\n",
    "Code to create a 3x3 matrix with values ranging from 2 to 10"
   ]
  },
  {
   "cell_type": "code",
   "execution_count": 2,
   "id": "ff29cfa8",
   "metadata": {
    "execution": {
     "iopub.execute_input": "2023-09-04T17:53:14.705620Z",
     "iopub.status.busy": "2023-09-04T17:53:14.705112Z",
     "iopub.status.idle": "2023-09-04T17:53:14.712554Z",
     "shell.execute_reply": "2023-09-04T17:53:14.710939Z"
    },
    "papermill": {
     "duration": 0.01712,
     "end_time": "2023-09-04T17:53:14.715106",
     "exception": false,
     "start_time": "2023-09-04T17:53:14.697986",
     "status": "completed"
    },
    "tags": []
   },
   "outputs": [
    {
     "name": "stdout",
     "output_type": "stream",
     "text": [
      "[[ 2  3  4]\n",
      " [ 5  6  7]\n",
      " [ 8  9 10]]\n"
     ]
    }
   ],
   "source": [
    "matrix = np.arange(2,11).reshape(3,3)\n",
    "print(matrix)"
   ]
  },
  {
   "cell_type": "markdown",
   "id": "f02e436b",
   "metadata": {
    "papermill": {
     "duration": 0.005596,
     "end_time": "2023-09-04T17:53:14.726420",
     "exception": false,
     "start_time": "2023-09-04T17:53:14.720824",
     "status": "completed"
    },
    "tags": []
   },
   "source": []
  },
  {
   "cell_type": "markdown",
   "id": "1cf9bbd5",
   "metadata": {
    "papermill": {
     "duration": 0.005322,
     "end_time": "2023-09-04T17:53:14.737379",
     "exception": false,
     "start_time": "2023-09-04T17:53:14.732057",
     "status": "completed"
    },
    "tags": []
   },
   "source": [
    "# 3\n",
    "Code to append values at the end of an array"
   ]
  },
  {
   "cell_type": "code",
   "execution_count": 3,
   "id": "245ffcee",
   "metadata": {
    "execution": {
     "iopub.execute_input": "2023-09-04T17:53:14.751301Z",
     "iopub.status.busy": "2023-09-04T17:53:14.750327Z",
     "iopub.status.idle": "2023-09-04T17:53:14.757429Z",
     "shell.execute_reply": "2023-09-04T17:53:14.755908Z"
    },
    "papermill": {
     "duration": 0.016926,
     "end_time": "2023-09-04T17:53:14.759964",
     "exception": false,
     "start_time": "2023-09-04T17:53:14.743038",
     "status": "completed"
    },
    "tags": []
   },
   "outputs": [
    {
     "name": "stdout",
     "output_type": "stream",
     "text": [
      "[1 2 3 4 5 6]\n"
     ]
    }
   ],
   "source": [
    "num_array = np.append(num_array,[6])\n",
    "print(num_array)"
   ]
  },
  {
   "cell_type": "markdown",
   "id": "c5afd831",
   "metadata": {
    "papermill": {
     "duration": 0.005488,
     "end_time": "2023-09-04T17:53:14.771524",
     "exception": false,
     "start_time": "2023-09-04T17:53:14.766036",
     "status": "completed"
    },
    "tags": []
   },
   "source": []
  },
  {
   "cell_type": "markdown",
   "id": "52875912",
   "metadata": {
    "papermill": {
     "duration": 0.005445,
     "end_time": "2023-09-04T17:53:14.782604",
     "exception": false,
     "start_time": "2023-09-04T17:53:14.777159",
     "status": "completed"
    },
    "tags": []
   },
   "source": [
    "# 4\n",
    "Code to create another shape from an array without changing its data (3X2 to 2X3)"
   ]
  },
  {
   "cell_type": "code",
   "execution_count": 4,
   "id": "d7a3a2e1",
   "metadata": {
    "execution": {
     "iopub.execute_input": "2023-09-04T17:53:14.796890Z",
     "iopub.status.busy": "2023-09-04T17:53:14.795598Z",
     "iopub.status.idle": "2023-09-04T17:53:14.803890Z",
     "shell.execute_reply": "2023-09-04T17:53:14.802863Z"
    },
    "papermill": {
     "duration": 0.018526,
     "end_time": "2023-09-04T17:53:14.806785",
     "exception": false,
     "start_time": "2023-09-04T17:53:14.788259",
     "status": "completed"
    },
    "tags": []
   },
   "outputs": [
    {
     "name": "stdout",
     "output_type": "stream",
     "text": [
      "3X2 Array :-\n",
      "[[1 2]\n",
      " [3 4]\n",
      " [5 6]]\n",
      "2X3 Array :-\n",
      "[[1 2 3]\n",
      " [4 5 6]]\n"
     ]
    }
   ],
   "source": [
    "num1 = [[1,2,3],[4,5,6]]\n",
    "matrix1 = np.array(num1)\n",
    "matrix1 = matrix1.reshape(3,2)\n",
    "print(\"3X2 Array :-\")\n",
    "print(matrix1)\n",
    "matrix2 = matrix1.reshape(2,3)\n",
    "print(\"2X3 Array :-\")\n",
    "print(matrix2)"
   ]
  }
 ],
 "kernelspec": {
  "display_name": "Python 3",
  "language": "python",
  "name": "python3"
 },
 "language_info": {
  "codemirror_mode": {
   "name": "ipython",
   "version": 3
  },
  "file_extension": ".py",
  "mimetype": "text/x-python",
  "name": "python",
  "nbconvert_exporter": "python",
  "pygments_lexer": "ipython3",
  "version": "3.6.4"
 },
 "metadata": {
  "kernelspec": {
   "display_name": "Python 3",
   "language": "python",
   "name": "python3"
  },
  "language_info": {
   "codemirror_mode": {
    "name": "ipython",
    "version": 3
   },
   "file_extension": ".py",
   "mimetype": "text/x-python",
   "name": "python",
   "nbconvert_exporter": "python",
   "pygments_lexer": "ipython3",
   "version": "3.10.12"
  },
  "papermill": {
   "default_parameters": {},
   "duration": 5.335012,
   "end_time": "2023-09-04T17:53:15.235019",
   "environment_variables": {},
   "exception": null,
   "input_path": "__notebook__.ipynb",
   "output_path": "__notebook__.ipynb",
   "parameters": {},
   "start_time": "2023-09-04T17:53:09.900007",
   "version": "2.4.0"
  }
 },
 "nbformat": 4,
 "nbformat_minor": 5
}
