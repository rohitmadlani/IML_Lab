{
 "cells": [
  {
   "cell_type": "markdown",
   "id": "2f586723",
   "metadata": {
    "papermill": {
     "duration": 0.005757,
     "end_time": "2023-09-11T12:06:04.975089",
     "exception": false,
     "start_time": "2023-09-11T12:06:04.969332",
     "status": "completed"
    },
    "tags": []
   },
   "source": [
    "# 1\n",
    "Code to add, subtract, multiply, divide arguments element-wise"
   ]
  },
  {
   "cell_type": "code",
   "execution_count": 1,
   "id": "ff370ecd",
   "metadata": {
    "execution": {
     "iopub.execute_input": "2023-09-11T12:06:04.988289Z",
     "iopub.status.busy": "2023-09-11T12:06:04.987763Z",
     "iopub.status.idle": "2023-09-11T12:06:05.004542Z",
     "shell.execute_reply": "2023-09-11T12:06:05.003263Z"
    },
    "papermill": {
     "duration": 0.026378,
     "end_time": "2023-09-11T12:06:05.007195",
     "exception": false,
     "start_time": "2023-09-11T12:06:04.980817",
     "status": "completed"
    },
    "tags": []
   },
   "outputs": [
    {
     "name": "stdout",
     "output_type": "stream",
     "text": [
      "Addition:-  50\n",
      "Subtraction:-  50\n",
      "Multiplication:-  50\n",
      "Division:-  50.0\n"
     ]
    }
   ],
   "source": [
    "import numpy as np \n",
    "\n",
    "print(\"Addition:- \",np.add(30,20))\n",
    "print(\"Subtraction:- \",np.subtract(100,50))\n",
    "print(\"Multiplication:- \",np.multiply(25,2))\n",
    "print(\"Division:- \",np.divide(100,2))"
   ]
  },
  {
   "cell_type": "markdown",
   "id": "664ef75c",
   "metadata": {
    "papermill": {
     "duration": 0.004933,
     "end_time": "2023-09-11T12:06:05.017400",
     "exception": false,
     "start_time": "2023-09-11T12:06:05.012467",
     "status": "completed"
    },
    "tags": []
   },
   "source": [
    "# 2\n",
    "Code to round elements of the array to the nearest integer"
   ]
  },
  {
   "cell_type": "code",
   "execution_count": 2,
   "id": "aacd4b91",
   "metadata": {
    "execution": {
     "iopub.execute_input": "2023-09-11T12:06:05.030047Z",
     "iopub.status.busy": "2023-09-11T12:06:05.029627Z",
     "iopub.status.idle": "2023-09-11T12:06:05.039878Z",
     "shell.execute_reply": "2023-09-11T12:06:05.038409Z"
    },
    "papermill": {
     "duration": 0.020105,
     "end_time": "2023-09-11T12:06:05.042936",
     "exception": false,
     "start_time": "2023-09-11T12:06:05.022831",
     "status": "completed"
    },
    "tags": []
   },
   "outputs": [
    {
     "name": "stdout",
     "output_type": "stream",
     "text": [
      "Before Round Of:- \n",
      "Type -  float64\n",
      "Array -  [11.2 12.3 13.4 14.5 15.6]\n",
      "After Round Of:- \n",
      "Type -  float64\n",
      "Array -  [11. 12. 13. 14. 16.]\n"
     ]
    }
   ],
   "source": [
    "arr = np.array([11.2,12.3,13.4,14.5,15.6])\n",
    "print(\"Before Round Of:- \")\n",
    "print(\"Type - \",arr.dtype)\n",
    "print(\"Array - \",arr)\n",
    "arr = np.rint(arr)\n",
    "print(\"After Round Of:- \")\n",
    "print(\"Type - \",arr.dtype)\n",
    "print(\"Array - \",arr)"
   ]
  },
  {
   "cell_type": "markdown",
   "id": "237a07e5",
   "metadata": {
    "papermill": {
     "duration": 0.005472,
     "end_time": "2023-09-11T12:06:05.053992",
     "exception": false,
     "start_time": "2023-09-11T12:06:05.048520",
     "status": "completed"
    },
    "tags": []
   },
   "source": [
    "# 3\n",
    "Code to calculate mean across dimension, in a 2D numpy array"
   ]
  },
  {
   "cell_type": "code",
   "execution_count": 3,
   "id": "dcc3bff0",
   "metadata": {
    "execution": {
     "iopub.execute_input": "2023-09-11T12:06:05.066750Z",
     "iopub.status.busy": "2023-09-11T12:06:05.066313Z",
     "iopub.status.idle": "2023-09-11T12:06:05.075434Z",
     "shell.execute_reply": "2023-09-11T12:06:05.074133Z"
    },
    "papermill": {
     "duration": 0.018799,
     "end_time": "2023-09-11T12:06:05.078108",
     "exception": false,
     "start_time": "2023-09-11T12:06:05.059309",
     "status": "completed"
    },
    "tags": []
   },
   "outputs": [
    {
     "name": "stdout",
     "output_type": "stream",
     "text": [
      "Mean of Row1 -  2.0\n",
      "Mean of Row2 -  5.0\n",
      "Mean of Row3 -  8.0\n",
      "Mean of Column1 -  4.0\n",
      "Mean of Column2 -  5.0\n",
      "Mean of Column3 -  6.0\n"
     ]
    }
   ],
   "source": [
    "arr1 = np.array([1,2,3,4,5,6,7,8,9]).reshape(3,3)\n",
    "\n",
    "row_mean = np.mean(arr1,axis=1)\n",
    "column_mean = np.mean(arr1,axis=0)\n",
    "\n",
    "print(\"Mean of Row1 - \",row_mean[0])\n",
    "print(\"Mean of Row2 - \",row_mean[1])\n",
    "print(\"Mean of Row3 - \",row_mean[2])\n",
    "\n",
    "print(\"Mean of Column1 - \",column_mean[0])\n",
    "print(\"Mean of Column2 - \",column_mean[1])\n",
    "print(\"Mean of Column3 - \",column_mean[2])"
   ]
  },
  {
   "cell_type": "markdown",
   "id": "12eba4a8",
   "metadata": {
    "papermill": {
     "duration": 0.005068,
     "end_time": "2023-09-11T12:06:05.088672",
     "exception": false,
     "start_time": "2023-09-11T12:06:05.083604",
     "status": "completed"
    },
    "tags": []
   },
   "source": [
    "# 4\n",
    "Code to calculate the difference between neighboring elements, element-wise of a given array"
   ]
  },
  {
   "cell_type": "code",
   "execution_count": 4,
   "id": "0e7b530f",
   "metadata": {
    "execution": {
     "iopub.execute_input": "2023-09-11T12:06:05.101698Z",
     "iopub.status.busy": "2023-09-11T12:06:05.101303Z",
     "iopub.status.idle": "2023-09-11T12:06:05.106801Z",
     "shell.execute_reply": "2023-09-11T12:06:05.105623Z"
    },
    "papermill": {
     "duration": 0.015999,
     "end_time": "2023-09-11T12:06:05.109983",
     "exception": false,
     "start_time": "2023-09-11T12:06:05.093984",
     "status": "completed"
    },
    "tags": []
   },
   "outputs": [
    {
     "name": "stdout",
     "output_type": "stream",
     "text": [
      "[1. 1. 1. 2.]\n"
     ]
    }
   ],
   "source": [
    "difference = np.diff(arr)\n",
    "print(difference)"
   ]
  }
 ],
 "kernelspec": {
  "display_name": "Python 3",
  "language": "python",
  "name": "python3"
 },
 "language_info": {
  "codemirror_mode": {
   "name": "ipython",
   "version": 3
  },
  "file_extension": ".py",
  "mimetype": "text/x-python",
  "name": "python",
  "nbconvert_exporter": "python",
  "pygments_lexer": "ipython3",
  "version": "3.6.4"
 },
 "metadata": {
  "kernelspec": {
   "display_name": "Python 3",
   "language": "python",
   "name": "python3"
  },
  "language_info": {
   "codemirror_mode": {
    "name": "ipython",
    "version": 3
   },
   "file_extension": ".py",
   "mimetype": "text/x-python",
   "name": "python",
   "nbconvert_exporter": "python",
   "pygments_lexer": "ipython3",
   "version": "3.10.12"
  },
  "papermill": {
   "default_parameters": {},
   "duration": 4.396683,
   "end_time": "2023-09-11T12:06:05.537033",
   "environment_variables": {},
   "exception": null,
   "input_path": "__notebook__.ipynb",
   "output_path": "__notebook__.ipynb",
   "parameters": {},
   "start_time": "2023-09-11T12:06:01.140350",
   "version": "2.4.0"
  }
 },
 "nbformat": 4,
 "nbformat_minor": 5
}
